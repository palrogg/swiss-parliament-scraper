{
 "cells": [
  {
   "cell_type": "code",
   "execution_count": 48,
   "metadata": {},
   "outputs": [],
   "source": [
    "import pandas as pd\n",
    "from glob import glob\n",
    "from bs4 import BeautifulSoup\n",
    "from selenium import webdriver\n",
    "from selenium.webdriver.common.by import By\n",
    "from selenium.webdriver.support.ui import WebDriverWait\n",
    "from selenium.webdriver.support import expected_conditions as EC\n",
    "from selenium.common.exceptions import TimeoutException\n",
    "from selenium.webdriver.firefox.firefox_binary import FirefoxBinary\n",
    "from time import sleep\n",
    "import re"
   ]
  },
  {
   "cell_type": "code",
   "execution_count": 34,
   "metadata": {},
   "outputs": [],
   "source": [
    "all_speechlists = glob('data/speech_lists/*.csv')"
   ]
  },
  {
   "cell_type": "code",
   "execution_count": 35,
   "metadata": {},
   "outputs": [],
   "source": [
    "df_set = (pd.read_csv(f) for f in all_speechlists)\n",
    "df = pd.concat(df_set, ignore_index=True)"
   ]
  },
  {
   "cell_type": "code",
   "execution_count": 36,
   "metadata": {},
   "outputs": [],
   "source": [
    "no_list = [i.split('/')[-1].replace('.csv', '') for i in all_speechlists]"
   ]
  },
  {
   "cell_type": "code",
   "execution_count": 37,
   "metadata": {},
   "outputs": [],
   "source": [
    "member_texts = {}"
   ]
  },
  {
   "cell_type": "code",
   "execution_count": 38,
   "metadata": {},
   "outputs": [],
   "source": [
    "for no in no_list:\n",
    "    member_texts[no] = []"
   ]
  },
  {
   "cell_type": "code",
   "execution_count": 40,
   "metadata": {},
   "outputs": [
    {
     "data": {
      "text/plain": [
       "3519"
      ]
     },
     "execution_count": 40,
     "metadata": {},
     "output_type": "execute_result"
    }
   ],
   "source": [
    "len(df)"
   ]
  },
  {
   "cell_type": "code",
   "execution_count": 45,
   "metadata": {},
   "outputs": [],
   "source": [
    "df = df.drop_duplicates(subset=['href']).copy()"
   ]
  },
  {
   "cell_type": "code",
   "execution_count": 46,
   "metadata": {},
   "outputs": [
    {
     "data": {
      "text/plain": [
       "(2436, 5)"
      ]
     },
     "execution_count": 46,
     "metadata": {},
     "output_type": "execute_result"
    }
   ],
   "source": [
    "df.shape"
   ]
  },
  {
   "cell_type": "code",
   "execution_count": null,
   "metadata": {},
   "outputs": [],
   "source": [
    "binary = FirefoxBinary('/Applications/Firefox_32.app/Contents/MacOS/firefox-bin')\n",
    "driver = webdriver.Chrome(r'_helpers/chromedriver')"
   ]
  },
  {
   "cell_type": "code",
   "execution_count": 56,
   "metadata": {},
   "outputs": [
    {
     "name": "stdout",
     "output_type": "stream",
     "text": [
      "16 parts found.\n",
      "Nom trouvé: Mazzone Lisa (4186)...match avec le no de l’élu: 4186\n",
      "Nom trouvé: Walliser Bruno (4177)...Pas de match\n",
      "Nom trouvé: Gmür-Schönenberger Andrea (4181)...Pas de match\n",
      "Nom trouvé: Fehlmann Rielle Laurence (4195)...match avec le no de l’élu: 4195\n",
      "Nom trouvé: Gmür-Schönenberger Andrea (4181)...Pas de match\n",
      "Nom trouvé: Nordmann Roger (1279)...Pas de match\n",
      "Nom trouvé: Gmür-Schönenberger Andrea (4181)...Pas de match\n",
      "Nom trouvé: Sommaruga Carlo (1120)...match avec le no de l’élu: 1120\n",
      "Nom trouvé: Gmür-Schönenberger Andrea (4181)...Pas de match\n",
      "Nom trouvé: Genecand Benoît (4191)...match avec le no de l’élu: 4191\n",
      "Nom trouvé: Gmür-Schönenberger Andrea (4181)...Pas de match\n",
      "Nom trouvé: Addor Jean-Luc (4154)...match avec le no de l’élu: 4154\n",
      "Nom trouvé: Gmür-Schönenberger Andrea (4181)...Pas de match\n"
     ]
    }
   ],
   "source": [
    "speech_href = df['href'].values[8]\n",
    "\n",
    "driver.get(speech_href)\n",
    "sleep(3)\n",
    "\n",
    "# Problème: l’intervention peut être noyée parmi celles des autres, non?\n",
    "# On pourrait récupérer les résumés au stade 2 et voir si ça matche\n",
    "\n",
    "# Plus simple: on merge les duplicates, et on checke avec l’id de l’élu\n",
    "\n",
    "transcripts = WebDriverWait(driver, 10).until(\n",
    "    EC.presence_of_element_located((By.CSS_SELECTOR, '#areaDebates'))\n",
    ")\n",
    "\n",
    "doc = BeautifulSoup(transcripts.get_attribute('innerHTML'), 'html.parser')\n",
    "\n",
    "speeches = doc.select('.pd-person-description')\n",
    "print(len(speeches), 'parts found.')\n",
    "\n",
    "member_speeches = []\n",
    "for speech in speeches:\n",
    "    member_href = speech.find('a', {'class': 'person-name'})\n",
    "    if member_href:\n",
    "        print('Nom trouvé:', member_href.text.strip(), end=' ')\n",
    "    \n",
    "        if member_href.get('href'):\n",
    "            memberId = member_href.get('href').split('=')[-1]\n",
    "            print('({})'.format(memberId), end='... ')\n",
    "\n",
    "            if memberId in no_list:\n",
    "                print('match avec le no de l’élu:', memberId)\n",
    "                if len(speech.find_all('p')) > 1:\n",
    "                    print('merde, il peut y avoir > 1 paragraphe => à revoir')\n",
    "                member_texts[memberId].append(speech.find('p').text)\n",
    "            else:\n",
    "                print('Pas de match')\n",
    "        else:\n",
    "            print('Pas de lien sur le nom:', member_href.string.strip())\n"
   ]
  },
  {
   "cell_type": "code",
   "execution_count": null,
   "metadata": {},
   "outputs": [],
   "source": []
  },
  {
   "cell_type": "code",
   "execution_count": null,
   "metadata": {},
   "outputs": [],
   "source": []
  },
  {
   "cell_type": "code",
   "execution_count": null,
   "metadata": {},
   "outputs": [],
   "source": []
  },
  {
   "cell_type": "code",
   "execution_count": 61,
   "metadata": {},
   "outputs": [
    {
     "name": "stdout",
     "output_type": "stream",
     "text": [
      ">\n",
      ">\n",
      ">\n",
      ">\n",
      ">\n",
      ">\n",
      ">\n",
      ">\n"
     ]
    }
   ],
   "source": [
    "for key, texts in member_texts.items():\n",
    "    if len(texts) > 0:\n",
    "        print('>')"
   ]
  },
  {
   "cell_type": "code",
   "execution_count": null,
   "metadata": {},
   "outputs": [],
   "source": [
    "\n",
    "# a merger avec bio des élus\n",
    "df_speeches = pd.DataFrame(member_speeches, columns=['Texte ou intervention'])\n",
    "df_speeches.to_csv('data/{}_{}.csv'.format(test_id, row['lastName']), index=False)"
   ]
  }
 ],
 "metadata": {
  "kernelspec": {
   "display_name": "Python 3",
   "language": "python",
   "name": "python3"
  },
  "language_info": {
   "codemirror_mode": {
    "name": "ipython",
    "version": 3
   },
   "file_extension": ".py",
   "mimetype": "text/x-python",
   "name": "python",
   "nbconvert_exporter": "python",
   "pygments_lexer": "ipython3",
   "version": "3.7.2"
  }
 },
 "nbformat": 4,
 "nbformat_minor": 2
}
